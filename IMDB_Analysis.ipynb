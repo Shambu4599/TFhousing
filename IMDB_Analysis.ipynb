{
  "nbformat": 4,
  "nbformat_minor": 0,
  "metadata": {
    "colab": {
      "name": "IMDB Analysis.ipynb",
      "version": "0.3.2",
      "provenance": [],
      "include_colab_link": true
    },
    "kernelspec": {
      "name": "python3",
      "display_name": "Python 3"
    }
  },
  "cells": [
    {
      "cell_type": "markdown",
      "metadata": {
        "id": "view-in-github",
        "colab_type": "text"
      },
      "source": [
        "<a href=\"https://colab.research.google.com/github/Shambu4599/TFhousing/blob/master/IMDB_Analysis.ipynb\" target=\"_parent\"><img src=\"https://colab.research.google.com/assets/colab-badge.svg\" alt=\"Open In Colab\"/></a>"
      ]
    },
    {
      "cell_type": "code",
      "metadata": {
        "id": "WaWJXSIXI7Rt",
        "colab_type": "code",
        "colab": {
          "base_uri": "https://localhost:8080/",
          "height": 403
        },
        "outputId": "a220e618-6d1b-4d80-a630-a41762c5a181"
      },
      "source": [
        "!pip install tf_nightly\n",
        "import tensorflow as tf\n",
        "!pip install numpy==1.16.1\n",
        "from __future__ import absolute_import,division,print_function\n",
        "from tensorflow import keras\n",
        "import numpy as np\n",
        "\n",
        "imdb = keras.datasets.imdb\n",
        "\n",
        "(train_data,train_labels),(test_data,test_labels) = imdb.load_data(num_words = 10000)\n",
        "\n",
        "print (\"Training entries: \",len(train_data))\n",
        "print(\"labels\",len(test_labels))"
      ],
      "execution_count": 43,
      "outputs": [
        {
          "output_type": "stream",
          "text": [
            "Requirement already satisfied: tf_nightly in /usr/local/lib/python3.6/dist-packages (1.14.1.dev20190521)\n",
            "Requirement already satisfied: wheel>=0.26 in /usr/local/lib/python3.6/dist-packages (from tf_nightly) (0.33.4)\n",
            "Requirement already satisfied: wrapt>=1.11.1 in /usr/local/lib/python3.6/dist-packages (from tf_nightly) (1.11.1)\n",
            "Requirement already satisfied: tf-estimator-nightly in /usr/local/lib/python3.6/dist-packages (from tf_nightly) (1.14.0.dev2019052101)\n",
            "Requirement already satisfied: numpy<2.0,>=1.14.5 in /usr/local/lib/python3.6/dist-packages (from tf_nightly) (1.16.1)\n",
            "Requirement already satisfied: six>=1.10.0 in /usr/local/lib/python3.6/dist-packages (from tf_nightly) (1.12.0)\n",
            "Requirement already satisfied: protobuf>=3.6.1 in /usr/local/lib/python3.6/dist-packages (from tf_nightly) (3.7.1)\n",
            "Requirement already satisfied: keras-preprocessing>=1.0.5 in /usr/local/lib/python3.6/dist-packages (from tf_nightly) (1.0.9)\n",
            "Requirement already satisfied: tb-nightly<1.15.0a0,>=1.14.0a0 in /usr/local/lib/python3.6/dist-packages (from tf_nightly) (1.14.0a20190521)\n",
            "Requirement already satisfied: keras-applications>=1.0.6 in /usr/local/lib/python3.6/dist-packages (from tf_nightly) (1.0.7)\n",
            "Requirement already satisfied: google-pasta>=0.1.6 in /usr/local/lib/python3.6/dist-packages (from tf_nightly) (0.1.6)\n",
            "Requirement already satisfied: termcolor>=1.1.0 in /usr/local/lib/python3.6/dist-packages (from tf_nightly) (1.1.0)\n",
            "Requirement already satisfied: astor>=0.6.0 in /usr/local/lib/python3.6/dist-packages (from tf_nightly) (0.7.1)\n",
            "Requirement already satisfied: gast>=0.2.0 in /usr/local/lib/python3.6/dist-packages (from tf_nightly) (0.2.2)\n",
            "Requirement already satisfied: grpcio>=1.8.6 in /usr/local/lib/python3.6/dist-packages (from tf_nightly) (1.15.0)\n",
            "Requirement already satisfied: absl-py>=0.7.0 in /usr/local/lib/python3.6/dist-packages (from tf_nightly) (0.7.1)\n",
            "Requirement already satisfied: setuptools in /usr/local/lib/python3.6/dist-packages (from protobuf>=3.6.1->tf_nightly) (41.0.1)\n",
            "Requirement already satisfied: werkzeug>=0.11.15 in /usr/local/lib/python3.6/dist-packages (from tb-nightly<1.15.0a0,>=1.14.0a0->tf_nightly) (0.15.4)\n",
            "Requirement already satisfied: markdown>=2.6.8 in /usr/local/lib/python3.6/dist-packages (from tb-nightly<1.15.0a0,>=1.14.0a0->tf_nightly) (3.1)\n",
            "Requirement already satisfied: h5py in /usr/local/lib/python3.6/dist-packages (from keras-applications>=1.0.6->tf_nightly) (2.8.0)\n",
            "Requirement already satisfied: numpy==1.16.1 in /usr/local/lib/python3.6/dist-packages (1.16.1)\n",
            "Training entries:  25000\n",
            "labels 25000\n"
          ],
          "name": "stdout"
        }
      ]
    },
    {
      "cell_type": "code",
      "metadata": {
        "id": "zwTEjA42J0nY",
        "colab_type": "code",
        "colab": {
          "base_uri": "https://localhost:8080/",
          "height": 54
        },
        "outputId": "fd43035d-278c-4c2c-e854-15eb6781b068"
      },
      "source": [
        "print(train_data[1])"
      ],
      "execution_count": 44,
      "outputs": [
        {
          "output_type": "stream",
          "text": [
            "[1, 194, 1153, 194, 8255, 78, 228, 5, 6, 1463, 4369, 5012, 134, 26, 4, 715, 8, 118, 1634, 14, 394, 20, 13, 119, 954, 189, 102, 5, 207, 110, 3103, 21, 14, 69, 188, 8, 30, 23, 7, 4, 249, 126, 93, 4, 114, 9, 2300, 1523, 5, 647, 4, 116, 9, 35, 8163, 4, 229, 9, 340, 1322, 4, 118, 9, 4, 130, 4901, 19, 4, 1002, 5, 89, 29, 952, 46, 37, 4, 455, 9, 45, 43, 38, 1543, 1905, 398, 4, 1649, 26, 6853, 5, 163, 11, 3215, 2, 4, 1153, 9, 194, 775, 7, 8255, 2, 349, 2637, 148, 605, 2, 8003, 15, 123, 125, 68, 2, 6853, 15, 349, 165, 4362, 98, 5, 4, 228, 9, 43, 2, 1157, 15, 299, 120, 5, 120, 174, 11, 220, 175, 136, 50, 9, 4373, 228, 8255, 5, 2, 656, 245, 2350, 5, 4, 9837, 131, 152, 491, 18, 2, 32, 7464, 1212, 14, 9, 6, 371, 78, 22, 625, 64, 1382, 9, 8, 168, 145, 23, 4, 1690, 15, 16, 4, 1355, 5, 28, 6, 52, 154, 462, 33, 89, 78, 285, 16, 145, 95]\n"
          ],
          "name": "stdout"
        }
      ]
    },
    {
      "cell_type": "code",
      "metadata": {
        "id": "hh4cfj8hLojz",
        "colab_type": "code",
        "colab": {}
      },
      "source": [
        "word_index = imdb.get_word_index()\n",
        "\n",
        "word_index = {k:(v+3) for k,v in word_index.items()} \n",
        "word_index[\"<PAD>\"] = 0\n",
        "word_index[\"<START>\"] = 1\n",
        "word_index[\"<UNK>\"] = 2  # unknown\n",
        "word_index[\"<UNUSED>\"] = 3\n",
        "\n",
        "reverse_word_index = dict([value,key] for [key,value] in word_index.items())\n",
        "\n",
        "def decode_review(text):\n",
        "  return ' '.join([reverse_word_index.get(i,'?') for i in text])\n"
      ],
      "execution_count": 0,
      "outputs": []
    },
    {
      "cell_type": "code",
      "metadata": {
        "id": "3KF1bsbRN3T5",
        "colab_type": "code",
        "colab": {
          "base_uri": "https://localhost:8080/",
          "height": 54
        },
        "outputId": "3a3fe3e5-5c30-4e67-cc42-f7fcc0735f0c"
      },
      "source": [
        "decode_review(train_data[12])"
      ],
      "execution_count": 46,
      "outputs": [
        {
          "output_type": "execute_result",
          "data": {
            "text/plain": [
              "\"<START> i love cheesy horror flicks i don't care if the acting is sub par or whether the monsters look corny i liked this movie except for the <UNK> feeling all the way from the beginning of the film to the very end look i don't need a 10 page <UNK> or a sign with big letters explaining a plot to me but dark floors takes the what is this movie about thing to a whole new annoying level what is this movie about br br this isn't exceptionally scary or thrilling but if you have an hour and a half to kill and or you want to end up feeling frustrated and confused rent this winner\""
            ]
          },
          "metadata": {
            "tags": []
          },
          "execution_count": 46
        }
      ]
    },
    {
      "cell_type": "code",
      "metadata": {
        "id": "yhVQFC6jQsdS",
        "colab_type": "code",
        "colab": {}
      },
      "source": [
        "train_data = keras.preprocessing.sequence.pad_sequences(train_data,value = word_index[\"<PAD>\"],padding = 'post',maxlen = 256)\n",
        "test_data = keras.preprocessing.sequence.pad_sequences(train_data,value = word_index[\"<PAD>\"],padding = 'post',maxlen = 256)"
      ],
      "execution_count": 0,
      "outputs": []
    },
    {
      "cell_type": "code",
      "metadata": {
        "id": "mLrKyf_TRIUh",
        "colab_type": "code",
        "colab": {
          "base_uri": "https://localhost:8080/",
          "height": 34
        },
        "outputId": "083ce06b-1950-4248-c543-089270767282"
      },
      "source": [
        "print(len(train_data[1]),len(test_data[2]))"
      ],
      "execution_count": 17,
      "outputs": [
        {
          "output_type": "stream",
          "text": [
            "256 256\n"
          ],
          "name": "stdout"
        }
      ]
    },
    {
      "cell_type": "code",
      "metadata": {
        "id": "3scrQFcZRflO",
        "colab_type": "code",
        "colab": {
          "base_uri": "https://localhost:8080/",
          "height": 269
        },
        "outputId": "7fb94f39-1580-41d3-f87a-600873ceada4"
      },
      "source": [
        "vocab_size = 10000\n",
        "\n",
        "model = keras.Sequential()\n",
        "model.add(keras.layers.Embedding(vocab_size,16))\n",
        "model.add(keras.layers.GlobalAveragePooling1D())\n",
        "model.add(keras.layers.Dense(16,activation = tf.nn.relu))\n",
        "model.add(keras.layers.Dense(1,activation = tf.nn.sigmoid))\n",
        "\n",
        "model.summary()"
      ],
      "execution_count": 48,
      "outputs": [
        {
          "output_type": "stream",
          "text": [
            "_________________________________________________________________\n",
            "Layer (type)                 Output Shape              Param #   \n",
            "=================================================================\n",
            "embedding_4 (Embedding)      (None, None, 16)          160000    \n",
            "_________________________________________________________________\n",
            "global_average_pooling1d_2 ( (None, 16)                0         \n",
            "_________________________________________________________________\n",
            "dense_5 (Dense)              (None, 16)                272       \n",
            "_________________________________________________________________\n",
            "dense_6 (Dense)              (None, 1)                 17        \n",
            "=================================================================\n",
            "Total params: 160,289\n",
            "Trainable params: 160,289\n",
            "Non-trainable params: 0\n",
            "_________________________________________________________________\n"
          ],
          "name": "stdout"
        }
      ]
    },
    {
      "cell_type": "code",
      "metadata": {
        "id": "MjYfPzTXT4Ew",
        "colab_type": "code",
        "colab": {
          "base_uri": "https://localhost:8080/",
          "height": 1411
        },
        "outputId": "50754bba-14b6-4db6-cb7e-fac55bff0c6a"
      },
      "source": [
        "model.compile(optimizer ='adam',loss = 'binary_crossentropy',metrics = ['acc'])\n",
        "\n",
        "x_val = train_data[:10000]\n",
        "partial_x_train = train_data[10000:]\n",
        "\n",
        "y_val = train_labels[:10000]\n",
        "partial_y_train = train_labels[10000:]\n",
        "\n",
        "history = model.fit(partial_x_train,partial_y_train,epochs = 40, batch_size = 512,validation_data = (x_val,y_val),verbose =1)\n",
        "results = model.evaluate(test_data,test_labels)\n",
        "print(results)"
      ],
      "execution_count": 49,
      "outputs": [
        {
          "output_type": "stream",
          "text": [
            "Train on 15000 samples, validate on 10000 samples\n",
            "Epoch 1/40\n",
            "15000/15000 [==============================] - 1s 73us/sample - loss: 0.6925 - acc: 0.5681 - val_loss: 0.6914 - val_acc: 0.6421\n",
            "Epoch 2/40\n",
            "15000/15000 [==============================] - 1s 48us/sample - loss: 0.6887 - acc: 0.6865 - val_loss: 0.6850 - val_acc: 0.7342\n",
            "Epoch 3/40\n",
            "15000/15000 [==============================] - 1s 48us/sample - loss: 0.6786 - acc: 0.7476 - val_loss: 0.6725 - val_acc: 0.7382\n",
            "Epoch 4/40\n",
            "15000/15000 [==============================] - 1s 49us/sample - loss: 0.6611 - acc: 0.7609 - val_loss: 0.6519 - val_acc: 0.7399\n",
            "Epoch 5/40\n",
            "15000/15000 [==============================] - 1s 48us/sample - loss: 0.6338 - acc: 0.7808 - val_loss: 0.6225 - val_acc: 0.7677\n",
            "Epoch 6/40\n",
            "15000/15000 [==============================] - 1s 49us/sample - loss: 0.5972 - acc: 0.8005 - val_loss: 0.5858 - val_acc: 0.7941\n",
            "Epoch 7/40\n",
            "15000/15000 [==============================] - 1s 48us/sample - loss: 0.5537 - acc: 0.8171 - val_loss: 0.5440 - val_acc: 0.8077\n",
            "Epoch 8/40\n",
            "15000/15000 [==============================] - 1s 48us/sample - loss: 0.5078 - acc: 0.8363 - val_loss: 0.5032 - val_acc: 0.8234\n",
            "Epoch 9/40\n",
            "15000/15000 [==============================] - 1s 47us/sample - loss: 0.4632 - acc: 0.8502 - val_loss: 0.4647 - val_acc: 0.8356\n",
            "Epoch 10/40\n",
            "15000/15000 [==============================] - 1s 48us/sample - loss: 0.4226 - acc: 0.8639 - val_loss: 0.4317 - val_acc: 0.8445\n",
            "Epoch 11/40\n",
            "15000/15000 [==============================] - 1s 48us/sample - loss: 0.3874 - acc: 0.8742 - val_loss: 0.4038 - val_acc: 0.8538\n",
            "Epoch 12/40\n",
            "15000/15000 [==============================] - 1s 49us/sample - loss: 0.3573 - acc: 0.8839 - val_loss: 0.3821 - val_acc: 0.8569\n",
            "Epoch 13/40\n",
            "15000/15000 [==============================] - 1s 50us/sample - loss: 0.3329 - acc: 0.8891 - val_loss: 0.3627 - val_acc: 0.8641\n",
            "Epoch 14/40\n",
            "15000/15000 [==============================] - 1s 48us/sample - loss: 0.3109 - acc: 0.8955 - val_loss: 0.3485 - val_acc: 0.8680\n",
            "Epoch 15/40\n",
            "15000/15000 [==============================] - 1s 47us/sample - loss: 0.2928 - acc: 0.8995 - val_loss: 0.3367 - val_acc: 0.8698\n",
            "Epoch 16/40\n",
            "15000/15000 [==============================] - 1s 47us/sample - loss: 0.2766 - acc: 0.9053 - val_loss: 0.3268 - val_acc: 0.8732\n",
            "Epoch 17/40\n",
            "15000/15000 [==============================] - 1s 47us/sample - loss: 0.2619 - acc: 0.9098 - val_loss: 0.3187 - val_acc: 0.8743\n",
            "Epoch 18/40\n",
            "15000/15000 [==============================] - 1s 48us/sample - loss: 0.2489 - acc: 0.9135 - val_loss: 0.3115 - val_acc: 0.8787\n",
            "Epoch 19/40\n",
            "15000/15000 [==============================] - 1s 47us/sample - loss: 0.2372 - acc: 0.9181 - val_loss: 0.3056 - val_acc: 0.8791\n",
            "Epoch 20/40\n",
            "15000/15000 [==============================] - 1s 48us/sample - loss: 0.2266 - acc: 0.9213 - val_loss: 0.3014 - val_acc: 0.8794\n",
            "Epoch 21/40\n",
            "15000/15000 [==============================] - 1s 48us/sample - loss: 0.2161 - acc: 0.9267 - val_loss: 0.2976 - val_acc: 0.8803\n",
            "Epoch 22/40\n",
            "15000/15000 [==============================] - 1s 47us/sample - loss: 0.2071 - acc: 0.9282 - val_loss: 0.2942 - val_acc: 0.8830\n",
            "Epoch 23/40\n",
            "15000/15000 [==============================] - 1s 47us/sample - loss: 0.1981 - acc: 0.9319 - val_loss: 0.2924 - val_acc: 0.8821\n",
            "Epoch 24/40\n",
            "15000/15000 [==============================] - 1s 48us/sample - loss: 0.1903 - acc: 0.9361 - val_loss: 0.2898 - val_acc: 0.8838\n",
            "Epoch 25/40\n",
            "15000/15000 [==============================] - 1s 47us/sample - loss: 0.1824 - acc: 0.9397 - val_loss: 0.2878 - val_acc: 0.8838\n",
            "Epoch 26/40\n",
            "15000/15000 [==============================] - 1s 48us/sample - loss: 0.1753 - acc: 0.9424 - val_loss: 0.2876 - val_acc: 0.8836\n",
            "Epoch 27/40\n",
            "15000/15000 [==============================] - 1s 48us/sample - loss: 0.1685 - acc: 0.9461 - val_loss: 0.2865 - val_acc: 0.8843\n",
            "Epoch 28/40\n",
            "15000/15000 [==============================] - 1s 48us/sample - loss: 0.1620 - acc: 0.9491 - val_loss: 0.2860 - val_acc: 0.8845\n",
            "Epoch 29/40\n",
            "15000/15000 [==============================] - 1s 50us/sample - loss: 0.1565 - acc: 0.9509 - val_loss: 0.2871 - val_acc: 0.8843\n",
            "Epoch 30/40\n",
            "15000/15000 [==============================] - 1s 48us/sample - loss: 0.1506 - acc: 0.9535 - val_loss: 0.2860 - val_acc: 0.8850\n",
            "Epoch 31/40\n",
            "15000/15000 [==============================] - 1s 48us/sample - loss: 0.1447 - acc: 0.9565 - val_loss: 0.2864 - val_acc: 0.8850\n",
            "Epoch 32/40\n",
            "15000/15000 [==============================] - 1s 48us/sample - loss: 0.1393 - acc: 0.9577 - val_loss: 0.2873 - val_acc: 0.8858\n",
            "Epoch 33/40\n",
            "15000/15000 [==============================] - 1s 48us/sample - loss: 0.1341 - acc: 0.9595 - val_loss: 0.2889 - val_acc: 0.8850\n",
            "Epoch 34/40\n",
            "15000/15000 [==============================] - 1s 49us/sample - loss: 0.1294 - acc: 0.9627 - val_loss: 0.2901 - val_acc: 0.8855\n",
            "Epoch 35/40\n",
            "15000/15000 [==============================] - 1s 48us/sample - loss: 0.1253 - acc: 0.9629 - val_loss: 0.2920 - val_acc: 0.8865\n",
            "Epoch 36/40\n",
            "15000/15000 [==============================] - 1s 49us/sample - loss: 0.1205 - acc: 0.9657 - val_loss: 0.2935 - val_acc: 0.8852\n",
            "Epoch 37/40\n",
            "15000/15000 [==============================] - 1s 47us/sample - loss: 0.1160 - acc: 0.9672 - val_loss: 0.2954 - val_acc: 0.8847\n",
            "Epoch 38/40\n",
            "15000/15000 [==============================] - 1s 48us/sample - loss: 0.1119 - acc: 0.9685 - val_loss: 0.2983 - val_acc: 0.8840\n",
            "Epoch 39/40\n",
            "15000/15000 [==============================] - 1s 49us/sample - loss: 0.1086 - acc: 0.9693 - val_loss: 0.3008 - val_acc: 0.8841\n",
            "Epoch 40/40\n",
            "15000/15000 [==============================] - 1s 49us/sample - loss: 0.1045 - acc: 0.9718 - val_loss: 0.3029 - val_acc: 0.8841\n",
            "25000/25000 [==============================] - 1s 36us/sample - loss: 2.1716 - acc: 0.4962\n",
            "[2.1716232370758055, 0.4962]\n"
          ],
          "name": "stdout"
        }
      ]
    },
    {
      "cell_type": "code",
      "metadata": {
        "id": "2Rb4LiW-dK-G",
        "colab_type": "code",
        "colab": {
          "base_uri": "https://localhost:8080/",
          "height": 34
        },
        "outputId": "a0264c24-3ef2-4da3-b81f-99980b5cc891"
      },
      "source": [
        "history_dict = history.history\n",
        "history_dict.keys()\n"
      ],
      "execution_count": 50,
      "outputs": [
        {
          "output_type": "execute_result",
          "data": {
            "text/plain": [
              "dict_keys(['loss', 'acc', 'val_loss', 'val_acc'])"
            ]
          },
          "metadata": {
            "tags": []
          },
          "execution_count": 50
        }
      ]
    },
    {
      "cell_type": "code",
      "metadata": {
        "id": "zGKlUBaaW6DO",
        "colab_type": "code",
        "colab": {
          "base_uri": "https://localhost:8080/",
          "height": 295
        },
        "outputId": "18e55aa2-94d3-4dd7-e528-88aa712cab4b"
      },
      "source": [
        "import matplotlib.pyplot as plt\n",
        "\n",
        "acc = history_dict['acc']\n",
        "loss = history_dict['loss']\n",
        "val_loss = history_dict['val_loss']\n",
        "val_acc = history_dict['val_acc']\n",
        "epochs = range(1,len(acc) +1)\n",
        "\n",
        "\n",
        "# \"bo\" is for \"blue dot\"\n",
        "plt.plot(epochs, loss, 'bo', label='Training loss')\n",
        "# b is for \"solid blue line\"\n",
        "plt.plot(epochs, val_loss, 'b', label='Validation loss')\n",
        "plt.title('Training and validation loss')\n",
        "plt.xlabel('Epochs')\n",
        "plt.ylabel('Loss')\n",
        "plt.legend()\n",
        "\n",
        "plt.show()"
      ],
      "execution_count": 51,
      "outputs": [
        {
          "output_type": "display_data",
          "data": {
            "image/png": "[encoded data removed]",
            "text/plain": [
              "<Figure size 432x288 with 1 Axes>"
            ]
          },
          "metadata": {
            "tags": []
          }
        }
      ]
    },
    {
      "cell_type": "code",
      "metadata": {
        "id": "dbRwQ6qkewy_",
        "colab_type": "code",
        "colab": {
          "base_uri": "https://localhost:8080/",
          "height": 295
        },
        "outputId": "87e1d7af-0ff9-42a1-944e-2fa8a2e93a32"
      },
      "source": [
        "plt.clf()   # clear figure\n",
        "\n",
        "plt.plot(epochs, acc, 'bo', label='Training acc')\n",
        "plt.plot(epochs, val_acc, 'b', label='Validation acc')\n",
        "plt.title('Training and validation accuracy')\n",
        "plt.xlabel('Epochs')\n",
        "plt.ylabel('Accuracy')\n",
        "plt.legend()\n",
        "\n",
        "plt.show()"
      ],
      "execution_count": 52,
      "outputs": [
        {
          "output_type": "display_data",
          "data": {
            "image/png": "[encoded data removed]",
            "text/plain": [
              "<Figure size 432x288 with 1 Axes>"
            ]
          },
          "metadata": {
            "tags": []
          }
        }
      ]
    },
    {
      "cell_type": "code",
      "metadata": {
        "id": "lrbljqNFWozN",
        "colab_type": "code",
        "colab": {}
      },
      "source": [
        ""
      ],
      "execution_count": 0,
      "outputs": []
    }
  ]
}