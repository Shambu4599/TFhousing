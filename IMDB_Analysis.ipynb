{
  "nbformat": 4,
  "nbformat_minor": 0,
  "metadata": {
    "colab": {
      "name": "IMDB Analysis.ipynb",
      "version": "0.3.2",
      "provenance": [],
      "collapsed_sections": [],
      "include_colab_link": true
    },
    "kernelspec": {
      "name": "python3",
      "display_name": "Python 3"
    }
  },
  "cells": [
    {
      "cell_type": "markdown",
      "metadata": {
        "id": "view-in-github",
        "colab_type": "text"
      },
      "source": [
        "<a href=\"https://colab.research.google.com/github/Shambu4599/TFhousing/blob/master/IMDB_Analysis.ipynb\" target=\"_parent\"><img src=\"https://colab.research.google.com/assets/colab-badge.svg\" alt=\"Open In Colab\"/></a>"
      ]
    },
    {
      "cell_type": "code",
      "metadata": {
        "id": "WaWJXSIXI7Rt",
        "colab_type": "code",
        "colab": {
          "base_uri": "https://localhost:8080/",
          "height": 353
        },
        "outputId": "d12c7d9d-9865-4d13-8a1d-a9ef3069a6d9"
      },
      "source": [
        "# keras.datasets.imdb is broken in 1.13 and 1.14, by np 1.16.3\n",
        "!pip install tf_nightly\n"
      ],
      "execution_count": 37,
      "outputs": [
        {
          "output_type": "stream",
          "text": [
            "Requirement already satisfied: tf_nightly in /usr/local/lib/python3.6/dist-packages (1.14.1.dev20190521)\n",
            "Requirement already satisfied: six>=1.10.0 in /usr/local/lib/python3.6/dist-packages (from tf_nightly) (1.12.0)\n",
            "Requirement already satisfied: gast>=0.2.0 in /usr/local/lib/python3.6/dist-packages (from tf_nightly) (0.2.2)\n",
            "Requirement already satisfied: grpcio>=1.8.6 in /usr/local/lib/python3.6/dist-packages (from tf_nightly) (1.15.0)\n",
            "Requirement already satisfied: keras-preprocessing>=1.0.5 in /usr/local/lib/python3.6/dist-packages (from tf_nightly) (1.0.9)\n",
            "Requirement already satisfied: tb-nightly<1.15.0a0,>=1.14.0a0 in /usr/local/lib/python3.6/dist-packages (from tf_nightly) (1.14.0a20190521)\n",
            "Requirement already satisfied: wrapt>=1.11.1 in /usr/local/lib/python3.6/dist-packages (from tf_nightly) (1.11.1)\n",
            "Requirement already satisfied: keras-applications>=1.0.6 in /usr/local/lib/python3.6/dist-packages (from tf_nightly) (1.0.7)\n",
            "Requirement already satisfied: absl-py>=0.7.0 in /usr/local/lib/python3.6/dist-packages (from tf_nightly) (0.7.1)\n",
            "Requirement already satisfied: wheel>=0.26 in /usr/local/lib/python3.6/dist-packages (from tf_nightly) (0.33.4)\n",
            "Requirement already satisfied: google-pasta>=0.1.6 in /usr/local/lib/python3.6/dist-packages (from tf_nightly) (0.1.6)\n",
            "Requirement already satisfied: numpy<2.0,>=1.14.5 in /usr/local/lib/python3.6/dist-packages (from tf_nightly) (1.16.3)\n",
            "Requirement already satisfied: astor>=0.6.0 in /usr/local/lib/python3.6/dist-packages (from tf_nightly) (0.7.1)\n",
            "Requirement already satisfied: protobuf>=3.6.1 in /usr/local/lib/python3.6/dist-packages (from tf_nightly) (3.7.1)\n",
            "Requirement already satisfied: termcolor>=1.1.0 in /usr/local/lib/python3.6/dist-packages (from tf_nightly) (1.1.0)\n",
            "Requirement already satisfied: tf-estimator-nightly in /usr/local/lib/python3.6/dist-packages (from tf_nightly) (1.14.0.dev2019052101)\n",
            "Requirement already satisfied: markdown>=2.6.8 in /usr/local/lib/python3.6/dist-packages (from tb-nightly<1.15.0a0,>=1.14.0a0->tf_nightly) (3.1)\n",
            "Requirement already satisfied: werkzeug>=0.11.15 in /usr/local/lib/python3.6/dist-packages (from tb-nightly<1.15.0a0,>=1.14.0a0->tf_nightly) (0.15.4)\n",
            "Requirement already satisfied: h5py in /usr/local/lib/python3.6/dist-packages (from keras-applications>=1.0.6->tf_nightly) (2.8.0)\n",
            "Requirement already satisfied: setuptools in /usr/local/lib/python3.6/dist-packages (from protobuf>=3.6.1->tf_nightly) (41.0.1)\n"
          ],
          "name": "stdout"
        }
      ]
    },
    {
      "cell_type": "code",
      "metadata": {
        "id": "zwTEjA42J0nY",
        "colab_type": "code",
        "colab": {
          "base_uri": "https://localhost:8080/",
          "height": 34
        },
        "outputId": "0742a030-3c11-4c74-aba8-e240484cf95d"
      },
      "source": [
        "from __future__ import absolute_import, division, print_function, unicode_literals\n",
        "\n",
        "import tensorflow as tf\n",
        "from tensorflow import keras\n",
        "\n",
        "import numpy as np\n",
        "\n",
        "print(tf.__version__)"
      ],
      "execution_count": 38,
      "outputs": [
        {
          "output_type": "stream",
          "text": [
            "1.14.1-dev20190521\n"
          ],
          "name": "stdout"
        }
      ]
    },
    {
      "cell_type": "code",
      "metadata": {
        "id": "hh4cfj8hLojz",
        "colab_type": "code",
        "colab": {}
      },
      "source": [
        "imdb = keras.datasets.imdb\n",
        "\n",
        "(train_data, train_labels), (test_data, test_labels) = imdb.load_data(num_words=10000)"
      ],
      "execution_count": 0,
      "outputs": []
    },
    {
      "cell_type": "code",
      "metadata": {
        "id": "3KF1bsbRN3T5",
        "colab_type": "code",
        "colab": {
          "base_uri": "https://localhost:8080/",
          "height": 34
        },
        "outputId": "55ba2484-94ed-4774-c556-b7251f6c1a88"
      },
      "source": [
        "print(\"Training entries: {}, labels: {}\".format(len(train_data), len(train_labels)))"
      ],
      "execution_count": 40,
      "outputs": [
        {
          "output_type": "stream",
          "text": [
            "Training entries: 25000, labels: 25000\n"
          ],
          "name": "stdout"
        }
      ]
    },
    {
      "cell_type": "code",
      "metadata": {
        "id": "yhVQFC6jQsdS",
        "colab_type": "code",
        "colab": {
          "base_uri": "https://localhost:8080/",
          "height": 54
        },
        "outputId": "41777dac-29d0-46b7-e95d-606a1c75b3e1"
      },
      "source": [
        "print(train_data[0])"
      ],
      "execution_count": 41,
      "outputs": [
        {
          "output_type": "stream",
          "text": [
            "[1, 14, 22, 16, 43, 530, 973, 1622, 1385, 65, 458, 4468, 66, 3941, 4, 173, 36, 256, 5, 25, 100, 43, 838, 112, 50, 670, 2, 9, 35, 480, 284, 5, 150, 4, 172, 112, 167, 2, 336, 385, 39, 4, 172, 4536, 1111, 17, 546, 38, 13, 447, 4, 192, 50, 16, 6, 147, 2025, 19, 14, 22, 4, 1920, 4613, 469, 4, 22, 71, 87, 12, 16, 43, 530, 38, 76, 15, 13, 1247, 4, 22, 17, 515, 17, 12, 16, 626, 18, 2, 5, 62, 386, 12, 8, 316, 8, 106, 5, 4, 2223, 5244, 16, 480, 66, 3785, 33, 4, 130, 12, 16, 38, 619, 5, 25, 124, 51, 36, 135, 48, 25, 1415, 33, 6, 22, 12, 215, 28, 77, 52, 5, 14, 407, 16, 82, 2, 8, 4, 107, 117, 5952, 15, 256, 4, 2, 7, 3766, 5, 723, 36, 71, 43, 530, 476, 26, 400, 317, 46, 7, 4, 2, 1029, 13, 104, 88, 4, 381, 15, 297, 98, 32, 2071, 56, 26, 141, 6, 194, 7486, 18, 4, 226, 22, 21, 134, 476, 26, 480, 5, 144, 30, 5535, 18, 51, 36, 28, 224, 92, 25, 104, 4, 226, 65, 16, 38, 1334, 88, 12, 16, 283, 5, 16, 4472, 113, 103, 32, 15, 16, 5345, 19, 178, 32]\n"
          ],
          "name": "stdout"
        }
      ]
    },
    {
      "cell_type": "code",
      "metadata": {
        "id": "mLrKyf_TRIUh",
        "colab_type": "code",
        "colab": {
          "base_uri": "https://localhost:8080/",
          "height": 34
        },
        "outputId": "b011326e-23dd-40cb-fe10-1ee4437405f3"
      },
      "source": [
        "len(train_data[0]), len(train_data[1])"
      ],
      "execution_count": 42,
      "outputs": [
        {
          "output_type": "execute_result",
          "data": {
            "text/plain": [
              "(218, 189)"
            ]
          },
          "metadata": {
            "tags": []
          },
          "execution_count": 42
        }
      ]
    },
    {
      "cell_type": "code",
      "metadata": {
        "id": "3scrQFcZRflO",
        "colab_type": "code",
        "colab": {}
      },
      "source": [
        "# A dictionary mapping words to an integer index\n",
        "word_index = imdb.get_word_index()\n",
        "\n",
        "# The first indices are reserved\n",
        "word_index = {k:(v+3) for k,v in word_index.items()}\n",
        "word_index[\"<PAD>\"] = 0\n",
        "word_index[\"<START>\"] = 1\n",
        "word_index[\"<UNK>\"] = 2  # unknown\n",
        "word_index[\"<UNUSED>\"] = 3\n",
        "\n",
        "reverse_word_index = dict([(value, key) for (key, value) in word_index.items()])\n",
        "\n",
        "def decode_review(text):\n",
        "    return ' '.join([reverse_word_index.get(i, '?') for i in text])"
      ],
      "execution_count": 0,
      "outputs": []
    },
    {
      "cell_type": "code",
      "metadata": {
        "id": "MjYfPzTXT4Ew",
        "colab_type": "code",
        "colab": {
          "base_uri": "https://localhost:8080/",
          "height": 54
        },
        "outputId": "496c2981-26b7-492c-935e-0e0b2853ab0f"
      },
      "source": [
        "decode_review(train_data[0])"
      ],
      "execution_count": 44,
      "outputs": [
        {
          "output_type": "execute_result",
          "data": {
            "text/plain": [
              "\"<START> this film was just brilliant casting location scenery story direction everyone's really suited the part they played and you could just imagine being there robert <UNK> is an amazing actor and now the same being director <UNK> father came from the same scottish island as myself so i loved the fact there was a real connection with this film the witty remarks throughout the film were great it was just brilliant so much that i bought the film as soon as it was released for <UNK> and would recommend it to everyone to watch and the fly fishing was amazing really cried at the end it was so sad and you know what they say if you cry at a film it must have been good and this definitely was also <UNK> to the two little boy's that played the <UNK> of norman and paul they were just brilliant children are often left out of the <UNK> list i think because the stars that play them all grown up are such a big profile for the whole film but these children are amazing and should be praised for what they have done don't you think the whole story was so lovely because it was true and was someone's life after all that was shared with us all\""
            ]
          },
          "metadata": {
            "tags": []
          },
          "execution_count": 44
        }
      ]
    },
    {
      "cell_type": "code",
      "metadata": {
        "id": "2Rb4LiW-dK-G",
        "colab_type": "code",
        "colab": {}
      },
      "source": [
        "train_data = keras.preprocessing.sequence.pad_sequences(train_data,\n",
        "                                                        value=word_index[\"<PAD>\"],\n",
        "                                                        padding='post',\n",
        "                                                        maxlen=256)\n",
        "\n",
        "test_data = keras.preprocessing.sequence.pad_sequences(test_data,\n",
        "                                                       value=word_index[\"<PAD>\"],\n",
        "                                                       padding='post',\n",
        "                                                       maxlen=256)"
      ],
      "execution_count": 0,
      "outputs": []
    },
    {
      "cell_type": "code",
      "metadata": {
        "id": "zGKlUBaaW6DO",
        "colab_type": "code",
        "colab": {
          "base_uri": "https://localhost:8080/",
          "height": 286
        },
        "outputId": "f77ccf2a-cf25-4b3c-ed86-00ee074c66a6"
      },
      "source": [
        "# input shape is the vocabulary count used for the movie reviews (10,000 words)\n",
        "vocab_size = 10000\n",
        "\n",
        "model = keras.Sequential()\n",
        "model.add(keras.layers.Embedding(vocab_size, 16))\n",
        "model.add(keras.layers.GlobalAveragePooling1D())\n",
        "model.add(keras.layers.Dense(16, activation=tf.nn.relu))\n",
        "model.add(keras.layers.Dense(1, activation=tf.nn.sigmoid))\n",
        "\n",
        "model.summary()"
      ],
      "execution_count": 60,
      "outputs": [
        {
          "output_type": "stream",
          "text": [
            "Model: \"sequential_6\"\n",
            "_________________________________________________________________\n",
            "Layer (type)                 Output Shape              Param #   \n",
            "=================================================================\n",
            "embedding_6 (Embedding)      (None, None, 16)          160000    \n",
            "_________________________________________________________________\n",
            "global_average_pooling1d_6 ( (None, 16)                0         \n",
            "_________________________________________________________________\n",
            "dense_12 (Dense)             (None, 16)                272       \n",
            "_________________________________________________________________\n",
            "dense_13 (Dense)             (None, 1)                 17        \n",
            "=================================================================\n",
            "Total params: 160,289\n",
            "Trainable params: 160,289\n",
            "Non-trainable params: 0\n",
            "_________________________________________________________________\n"
          ],
          "name": "stdout"
        }
      ]
    },
    {
      "cell_type": "code",
      "metadata": {
        "id": "dbRwQ6qkewy_",
        "colab_type": "code",
        "colab": {}
      },
      "source": [
        "model.compile(optimizer='adam',\n",
        "              loss='binary_crossentropy',\n",
        "              metrics=['acc'])"
      ],
      "execution_count": 0,
      "outputs": []
    },
    {
      "cell_type": "code",
      "metadata": {
        "id": "lrbljqNFWozN",
        "colab_type": "code",
        "colab": {}
      },
      "source": [
        "x_val = train_data[:10000]\n",
        "partial_x_train = train_data[10000:]\n",
        "\n",
        "y_val = train_labels[:10000]\n",
        "partial_y_train = train_labels[10000:]"
      ],
      "execution_count": 0,
      "outputs": []
    },
    {
      "cell_type": "code",
      "metadata": {
        "id": "Cz0Yfud13SMe",
        "colab_type": "code",
        "colab": {
          "base_uri": "https://localhost:8080/",
          "height": 1378
        },
        "outputId": "40bb1b0c-e6e2-42a5-d61f-d7e468384864"
      },
      "source": [
        "history = model.fit(partial_x_train,partial_y_train,epochs = 40,batch_size = 512,validation_data =(x_val,y_val),verbose = 1)"
      ],
      "execution_count": 63,
      "outputs": [
        {
          "output_type": "stream",
          "text": [
            "Train on 15000 samples, validate on 10000 samples\n",
            "Epoch 1/40\n",
            "15000/15000 [==============================] - 1s 90us/sample - loss: 0.6922 - acc: 0.5354 - val_loss: 0.6904 - val_acc: 0.5977\n",
            "Epoch 2/40\n",
            "15000/15000 [==============================] - 1s 63us/sample - loss: 0.6870 - acc: 0.7043 - val_loss: 0.6834 - val_acc: 0.7412\n",
            "Epoch 3/40\n",
            "15000/15000 [==============================] - 1s 64us/sample - loss: 0.6759 - acc: 0.7320 - val_loss: 0.6695 - val_acc: 0.7206\n",
            "Epoch 4/40\n",
            "15000/15000 [==============================] - 1s 65us/sample - loss: 0.6558 - acc: 0.7413 - val_loss: 0.6465 - val_acc: 0.7681\n",
            "Epoch 5/40\n",
            "15000/15000 [==============================] - 1s 64us/sample - loss: 0.6257 - acc: 0.7824 - val_loss: 0.6144 - val_acc: 0.7801\n",
            "Epoch 6/40\n",
            "15000/15000 [==============================] - 1s 64us/sample - loss: 0.5864 - acc: 0.8061 - val_loss: 0.5755 - val_acc: 0.8013\n",
            "Epoch 7/40\n",
            "15000/15000 [==============================] - 1s 65us/sample - loss: 0.5415 - acc: 0.8259 - val_loss: 0.5332 - val_acc: 0.8165\n",
            "Epoch 8/40\n",
            "15000/15000 [==============================] - 1s 62us/sample - loss: 0.4945 - acc: 0.8433 - val_loss: 0.4914 - val_acc: 0.8297\n",
            "Epoch 9/40\n",
            "15000/15000 [==============================] - 1s 63us/sample - loss: 0.4496 - acc: 0.8569 - val_loss: 0.4559 - val_acc: 0.8376\n",
            "Epoch 10/40\n",
            "15000/15000 [==============================] - 1s 63us/sample - loss: 0.4103 - acc: 0.8675 - val_loss: 0.4212 - val_acc: 0.8479\n",
            "Epoch 11/40\n",
            "15000/15000 [==============================] - 1s 65us/sample - loss: 0.3753 - acc: 0.8793 - val_loss: 0.3946 - val_acc: 0.8564\n",
            "Epoch 12/40\n",
            "15000/15000 [==============================] - 1s 63us/sample - loss: 0.3464 - acc: 0.8869 - val_loss: 0.3741 - val_acc: 0.8608\n",
            "Epoch 13/40\n",
            "15000/15000 [==============================] - 1s 62us/sample - loss: 0.3224 - acc: 0.8925 - val_loss: 0.3565 - val_acc: 0.8669\n",
            "Epoch 14/40\n",
            "15000/15000 [==============================] - 1s 64us/sample - loss: 0.3010 - acc: 0.8979 - val_loss: 0.3421 - val_acc: 0.8719\n",
            "Epoch 15/40\n",
            "15000/15000 [==============================] - 1s 63us/sample - loss: 0.2834 - acc: 0.9030 - val_loss: 0.3309 - val_acc: 0.8737\n",
            "Epoch 16/40\n",
            "15000/15000 [==============================] - 1s 63us/sample - loss: 0.2675 - acc: 0.9084 - val_loss: 0.3217 - val_acc: 0.8771\n",
            "Epoch 17/40\n",
            "15000/15000 [==============================] - 1s 64us/sample - loss: 0.2531 - acc: 0.9136 - val_loss: 0.3143 - val_acc: 0.8786\n",
            "Epoch 18/40\n",
            "15000/15000 [==============================] - 1s 63us/sample - loss: 0.2414 - acc: 0.9168 - val_loss: 0.3080 - val_acc: 0.8787\n",
            "Epoch 19/40\n",
            "15000/15000 [==============================] - 1s 65us/sample - loss: 0.2299 - acc: 0.9203 - val_loss: 0.3028 - val_acc: 0.8817\n",
            "Epoch 20/40\n",
            "15000/15000 [==============================] - 1s 63us/sample - loss: 0.2184 - acc: 0.9247 - val_loss: 0.2998 - val_acc: 0.8808\n",
            "Epoch 21/40\n",
            "15000/15000 [==============================] - 1s 64us/sample - loss: 0.2090 - acc: 0.9279 - val_loss: 0.2954 - val_acc: 0.8821\n",
            "Epoch 22/40\n",
            "15000/15000 [==============================] - 1s 64us/sample - loss: 0.1995 - acc: 0.9321 - val_loss: 0.2925 - val_acc: 0.8830\n",
            "Epoch 23/40\n",
            "15000/15000 [==============================] - 1s 64us/sample - loss: 0.1913 - acc: 0.9357 - val_loss: 0.2917 - val_acc: 0.8834\n",
            "Epoch 24/40\n",
            "15000/15000 [==============================] - 1s 61us/sample - loss: 0.1832 - acc: 0.9399 - val_loss: 0.2888 - val_acc: 0.8837\n",
            "Epoch 25/40\n",
            "15000/15000 [==============================] - 1s 63us/sample - loss: 0.1763 - acc: 0.9421 - val_loss: 0.2879 - val_acc: 0.8833\n",
            "Epoch 26/40\n",
            "15000/15000 [==============================] - 1s 63us/sample - loss: 0.1686 - acc: 0.9462 - val_loss: 0.2876 - val_acc: 0.8835\n",
            "Epoch 27/40\n",
            "15000/15000 [==============================] - 1s 63us/sample - loss: 0.1619 - acc: 0.9491 - val_loss: 0.2870 - val_acc: 0.8846\n",
            "Epoch 28/40\n",
            "15000/15000 [==============================] - 1s 62us/sample - loss: 0.1556 - acc: 0.9513 - val_loss: 0.2864 - val_acc: 0.8868\n",
            "Epoch 29/40\n",
            "15000/15000 [==============================] - 1s 63us/sample - loss: 0.1492 - acc: 0.9541 - val_loss: 0.2865 - val_acc: 0.8858\n",
            "Epoch 30/40\n",
            "15000/15000 [==============================] - 1s 63us/sample - loss: 0.1436 - acc: 0.9563 - val_loss: 0.2876 - val_acc: 0.8862\n",
            "Epoch 31/40\n",
            "15000/15000 [==============================] - 1s 64us/sample - loss: 0.1381 - acc: 0.9587 - val_loss: 0.2882 - val_acc: 0.8873\n",
            "Epoch 32/40\n",
            "15000/15000 [==============================] - 1s 63us/sample - loss: 0.1329 - acc: 0.9611 - val_loss: 0.2906 - val_acc: 0.8860\n",
            "Epoch 33/40\n",
            "15000/15000 [==============================] - 1s 66us/sample - loss: 0.1287 - acc: 0.9622 - val_loss: 0.2917 - val_acc: 0.8847\n",
            "Epoch 34/40\n",
            "15000/15000 [==============================] - 1s 63us/sample - loss: 0.1236 - acc: 0.9643 - val_loss: 0.2925 - val_acc: 0.8861\n",
            "Epoch 35/40\n",
            "15000/15000 [==============================] - 1s 63us/sample - loss: 0.1187 - acc: 0.9660 - val_loss: 0.2945 - val_acc: 0.8869\n",
            "Epoch 36/40\n",
            "15000/15000 [==============================] - 1s 62us/sample - loss: 0.1141 - acc: 0.9683 - val_loss: 0.2976 - val_acc: 0.8850\n",
            "Epoch 37/40\n",
            "15000/15000 [==============================] - 1s 64us/sample - loss: 0.1100 - acc: 0.9698 - val_loss: 0.2992 - val_acc: 0.8850\n",
            "Epoch 38/40\n",
            "15000/15000 [==============================] - 1s 63us/sample - loss: 0.1060 - acc: 0.9709 - val_loss: 0.3012 - val_acc: 0.8847\n",
            "Epoch 39/40\n",
            "15000/15000 [==============================] - 1s 64us/sample - loss: 0.1024 - acc: 0.9723 - val_loss: 0.3038 - val_acc: 0.8840\n",
            "Epoch 40/40\n",
            "15000/15000 [==============================] - 1s 63us/sample - loss: 0.0984 - acc: 0.9735 - val_loss: 0.3073 - val_acc: 0.8840\n"
          ],
          "name": "stdout"
        }
      ]
    },
    {
      "cell_type": "code",
      "metadata": {
        "id": "r__o5rSl3UV3",
        "colab_type": "code",
        "colab": {
          "base_uri": "https://localhost:8080/",
          "height": 50
        },
        "outputId": "fbb4e18f-24a4-4c19-bd69-45d9da1382cc"
      },
      "source": [
        "results = model.evaluate(test_data, test_labels)\n",
        "\n",
        "print(results)"
      ],
      "execution_count": 64,
      "outputs": [
        {
          "output_type": "stream",
          "text": [
            "25000/25000 [==============================] - 1s 44us/sample - loss: 0.3267 - acc: 0.8725\n",
            "[0.32665930243968966, 0.87252]\n"
          ],
          "name": "stdout"
        }
      ]
    },
    {
      "cell_type": "code",
      "metadata": {
        "id": "AQ4I_NZX5d0Z",
        "colab_type": "code",
        "colab": {}
      },
      "source": [
        ""
      ],
      "execution_count": 0,
      "outputs": []
    }
  ]
}